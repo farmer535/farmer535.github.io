{
 "cells": [
  {
   "cell_type": "code",
   "execution_count": null,
   "id": "0566399d",
   "metadata": {},
   "outputs": [],
   "source": [
    "text=''"
   ]
  },
  {
   "cell_type": "code",
   "execution_count": null,
   "id": "31b62b2e",
   "metadata": {},
   "outputs": [],
   "source": [
    "text=text.replace(' ','/')\n",
    "text=text.replace('x','')\n",
    "text=text.replace('///','/')\n",
    "text=text.replace('//','/')\n",
    "print(text)"
   ]
  },
  {
   "cell_type": "code",
   "execution_count": null,
   "id": "55a92f51",
   "metadata": {},
   "outputs": [],
   "source": [
    "text=text.split('/')\n",
    "print(text)"
   ]
  },
  {
   "cell_type": "code",
   "execution_count": null,
   "id": "8df92184",
   "metadata": {},
   "outputs": [],
   "source": [
    "text_time=''\n",
    "text_time=text_time.split(' ')\n",
    "\n",
    "print(text_time)\n",
    "\n",
    "for i in text:\n",
    "    if i not in text_time:\n",
    "        text_time.append(i)\n",
    "\n",
    "print(text_time)"
   ]
  },
  {
   "cell_type": "code",
   "execution_count": null,
   "id": "dff2956c",
   "metadata": {},
   "outputs": [],
   "source": [
    "text_timereal=[]\n",
    " \n",
    "for i in  text_time:\n",
    "    a=0\n",
    "    for j in text:\n",
    "        if i in j:\n",
    "            a+=1\n",
    "    text_timereal.append(a)\n",
    "\n",
    "print(text_timereal)"
   ]
  },
  {
   "cell_type": "code",
   "execution_count": null,
   "id": "4742c04f",
   "metadata": {},
   "outputs": [],
   "source": [
    "import pandas as pd"
   ]
  },
  {
   "cell_type": "code",
   "execution_count": null,
   "id": "ef0bad90",
   "metadata": {},
   "outputs": [],
   "source": [
    " \n",
    "data = {\n",
    "     '文章分類': text_time,\n",
    "     '出現次數':text_timereal\n",
    "}\n",
    "df=pd.DataFrame(data, columns=['文章分類','出現次數'])\n",
    "print(df)"
   ]
  },
  {
   "cell_type": "code",
   "execution_count": null,
   "id": "611c2fc3",
   "metadata": {},
   "outputs": [],
   "source": [
    "df_list=df.values.tolist()\n",
    "print(df_list)"
   ]
  },
  {
   "cell_type": "code",
   "execution_count": null,
   "id": "8eebda73",
   "metadata": {},
   "outputs": [],
   "source": []
  },
  {
   "cell_type": "code",
   "execution_count": null,
   "id": "89539f5d",
   "metadata": {},
   "outputs": [],
   "source": [
    " from operator import itemgetter"
   ]
  },
  {
   "cell_type": "code",
   "execution_count": null,
   "id": "07f19c32",
   "metadata": {},
   "outputs": [],
   "source": [
    "sort=''\n",
    "sort=sorted(df_list, key=itemgetter(1), reverse=True)\n",
    "print(sort)"
   ]
  },
  {
   "cell_type": "code",
   "execution_count": null,
   "id": "05d5d15c",
   "metadata": {},
   "outputs": [],
   "source": [
    "df=pd.DataFrame(sort, columns=['文章分類','出現次數'])\n",
    "print(df)"
   ]
  },
  {
   "cell_type": "code",
   "execution_count": null,
   "id": "e136074e",
   "metadata": {},
   "outputs": [],
   "source": [
    "# writer=pd.ExcelWriter('international_1-8 month_價格相關次數count.xlsx')\n",
    "# df.to_excel(writer)\n",
    "# writer.save()\n",
    "# print('success!')"
   ]
  },
  {
   "cell_type": "code",
   "execution_count": null,
   "id": "975db0ab",
   "metadata": {},
   "outputs": [],
   "source": []
  }
 ],
 "metadata": {
  "kernelspec": {
   "display_name": "Python 3",
   "language": "python",
   "name": "python3"
  },
  "language_info": {
   "codemirror_mode": {
    "name": "ipython",
    "version": 3
   },
   "file_extension": ".py",
   "mimetype": "text/x-python",
   "name": "python",
   "nbconvert_exporter": "python",
   "pygments_lexer": "ipython3",
   "version": "3.8.8"
  }
 },
 "nbformat": 4,
 "nbformat_minor": 5
}
