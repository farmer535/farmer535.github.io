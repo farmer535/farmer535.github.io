{
 "cells": [
  {
   "cell_type": "code",
   "execution_count": null,
   "id": "d019f0d1",
   "metadata": {},
   "outputs": [],
   "source": [
    "import pandas as pd\n",
    "import matplotlib.pyplot as plt\n",
    "from wordcloud import WordCloud"
   ]
  },
  {
   "cell_type": "code",
   "execution_count": null,
   "id": "586bd013",
   "metadata": {},
   "outputs": [],
   "source": [
    "text=''\n",
    "text=text.replace(' ','/')\n",
    "text=text.replace('//','/')\n",
    "text=text.replace('///','/')\n",
    "print(text)"
   ]
  },
  {
   "cell_type": "code",
   "execution_count": null,
   "id": "491578b8",
   "metadata": {},
   "outputs": [],
   "source": [
    "text=text.split('/')\n",
    "print(text)"
   ]
  },
  {
   "cell_type": "code",
   "execution_count": null,
   "id": "24c805f1",
   "metadata": {},
   "outputs": [],
   "source": [
    "\n",
    "data = {\n",
    "     '新聞類型': text,\n",
    " }\n",
    "df=pd.DataFrame(data, columns=['新聞類型'])\n",
    "print(df)"
   ]
  },
  {
   "cell_type": "code",
   "execution_count": null,
   "id": "920322e3",
   "metadata": {},
   "outputs": [],
   "source": [
    " text_time=[]\n",
    "for i in text:\n",
    "    if i not in text_time:\n",
    "        text_time.append(i)\n",
    "\n",
    "print(text_time)"
   ]
  },
  {
   "cell_type": "code",
   "execution_count": null,
   "id": "397ae530",
   "metadata": {},
   "outputs": [],
   "source": [
    "text_timereal=[]\n",
    " \n",
    "for i in  text_time:\n",
    "    a=0\n",
    "    for j in text:\n",
    "        if i==j:\n",
    "            a+=1\n",
    "    text_timereal.append(a)\n",
    "\n",
    "print(text_timereal)"
   ]
  },
  {
   "cell_type": "code",
   "execution_count": null,
   "id": "59e33ab0",
   "metadata": {},
   "outputs": [],
   "source": [
    "\n",
    "data = {\n",
    "     '新聞類型': text_time,\n",
    "    '新聞出現次數':text_timereal\n",
    " }\n",
    "df=pd.DataFrame(data, columns=['新聞類型', '新聞出現次數'])\n",
    "print(df)"
   ]
  },
  {
   "cell_type": "code",
   "execution_count": null,
   "id": "8374285c",
   "metadata": {},
   "outputs": [],
   "source": [
    "import operator\n",
    "from operator import itemgetter"
   ]
  },
  {
   "cell_type": "code",
   "execution_count": null,
   "id": "d4f67490",
   "metadata": {},
   "outputs": [],
   "source": [
    "df_list=df.values.tolist()\n",
    " \n",
    "print(df_list) "
   ]
  },
  {
   "cell_type": "code",
   "execution_count": null,
   "id": "9a49945d",
   "metadata": {},
   "outputs": [],
   "source": [
    "sort=sorted(df_list, key = itemgetter(1),reverse=True)\n",
    "print(sort)"
   ]
  },
  {
   "cell_type": "code",
   "execution_count": null,
   "id": "ae7e7199",
   "metadata": {},
   "outputs": [],
   "source": [
    " pd.set_option('display.max_rows', None)\n",
    "df =pd. DataFrame(sort,columns=['新聞類型', '新聞出現次數'])\n",
    " \n",
    "print(df)"
   ]
  },
  {
   "cell_type": "code",
   "execution_count": null,
   "id": "b9f0f9ab",
   "metadata": {},
   "outputs": [],
   "source": [
    "import matplotlib.pyplot as plt\n",
    "plt.rcParams['font.sans-serif']=['SimHei']  \n",
    "plt.rcParams['axes.unicode_minus']=False  "
   ]
  },
  {
   "cell_type": "code",
   "execution_count": null,
   "id": "a68a1fe8",
   "metadata": {},
   "outputs": [],
   "source": [
    " import numpy as np"
   ]
  },
  {
   "cell_type": "code",
   "execution_count": null,
   "id": "699f7189",
   "metadata": {},
   "outputs": [],
   "source": [
    "\n",
    "ax=df.plot.bar(x='新聞類型', y='新聞出現次數',figsize=(15, 10),fontsize=20, rot='90') \n",
    " \n",
    "plt.savefig('test.png', bbox_inches='tight')"
   ]
  },
  {
   "cell_type": "code",
   "execution_count": null,
   "id": "d4b8a72f",
   "metadata": {},
   "outputs": [],
   "source": [
    " "
   ]
  },
  {
   "cell_type": "code",
   "execution_count": null,
   "id": "6ab3e06d",
   "metadata": {},
   "outputs": [],
   "source": []
  }
 ],
 "metadata": {
  "kernelspec": {
   "display_name": "Python 3",
   "language": "python",
   "name": "python3"
  },
  "language_info": {
   "codemirror_mode": {
    "name": "ipython",
    "version": 3
   },
   "file_extension": ".py",
   "mimetype": "text/x-python",
   "name": "python",
   "nbconvert_exporter": "python",
   "pygments_lexer": "ipython3",
   "version": "3.8.8"
  }
 },
 "nbformat": 4,
 "nbformat_minor": 5
}
