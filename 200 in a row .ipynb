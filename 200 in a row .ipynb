{
 "cells": [
  {
   "cell_type": "code",
   "execution_count": null,
   "id": "c46bbb69",
   "metadata": {},
   "outputs": [],
   "source": [
    "text=''\n",
    "text=text.replace('/','') \n",
    "text=text.replace('編輯','')\n",
    "text=text.replace('鋼鐵新聞','')\n",
    "text=text.replace('華文專業鋼鐵網 後台管理 [][]  快訊  新聞中心  新聞中心-新聞分類  文章分類-次分類  新聞上稿  商情情報  行情看板  一週鋼市  一週鋼市(地區)  一週鋼市(報告)  國際鋼市  國際鋼市(地區)  國際鋼市(報告)  鋼品期貨  鋼品期貨(類型)  鋼品期貨(項目)  鋼品期貨(報告)  鋼品進出口統計  鋼品進出口統計(分類一)  鋼品進出口統計(分類二)  鋼品進出口統計(地區)  鋼品進出口統計(報告)  盤價  盤價(公司)  盤價(報告)  產業圖書館  企業名錄  企業專訪  專訪分類  專訪  專家論壇  專家論壇分類  專家論壇  產業辭典  產業辭典分類  產業辭典  問題解答  問題解答分類  問題解答  船期動態  船期表分類  船期表  登      出 新聞上稿列表 新增資料 刪除資料 [查詢] 關鍵字：      日期 分類 標題 點閱次數 [更新排序] 是否啟用 重磅新聞 焦點新聞 顯示 NEW 標籤 顯示 HOT 標籤 操作','')\n",
    "text=text.split()\n",
    "print(text)\n",
    "print(len(text))"
   ]
  },
  {
   "cell_type": "code",
   "execution_count": null,
   "id": "e285e9d6",
   "metadata": {},
   "outputs": [],
   "source": []
  },
  {
   "cell_type": "code",
   "execution_count": null,
   "id": "288feb1c",
   "metadata": {},
   "outputs": [],
   "source": [
    "for i in text:\n",
    "    if i=='共':\n",
    "        del text[text.index(i):(text.index(i)+4)] \n",
    "print(text)\n"
   ]
  },
  {
   "cell_type": "code",
   "execution_count": null,
   "id": "a37f7eec",
   "metadata": {},
   "outputs": [],
   "source": [
    "def is_contain_chinese(check_str):\n",
    "    for ch in check_str:\n",
    "        if u'\\u4e00' <= ch <= u'\\u9fff':\n",
    "            return True\n",
    "    return False"
   ]
  },
  {
   "cell_type": "code",
   "execution_count": null,
   "id": "a26cd183",
   "metadata": {},
   "outputs": [],
   "source": [
    "chinese=[]\n",
    "for i in text:\n",
    "    if is_contain_chinese(i):\n",
    "        chinese.append(i)\n",
    "        \n",
    "chinese=' '.join(chinese)\n",
    "chinese=chinese.replace(' ','')\n",
    "\n",
    "chinese=chinese.replace('國際新聞',',國際新聞,')\n",
    "chinese=chinese.replace('台灣新聞',',台灣新聞,')\n",
    "chinese=chinese.replace('大陸新聞',',大陸新聞,')\n",
    "chinese=chinese.replace('產經新聞',',產經新聞,')\n",
    "chinese=chinese.replace(',,',',')\n",
    "chinese=chinese.replace('~','-')\n",
    " \n",
    " \n",
    " "
   ]
  },
  {
   "cell_type": "code",
   "execution_count": null,
   "id": "c19144ae",
   "metadata": {},
   "outputs": [],
   "source": [
    "chinese=chinese.split(',')\n",
    "del chinese[0]\n",
    "\n",
    "print(chinese)\n",
    "print(len(chinese))\n",
    "\n"
   ]
  },
  {
   "cell_type": "code",
   "execution_count": null,
   "id": "6a3c26f1",
   "metadata": {},
   "outputs": [],
   "source": [
    " \n",
    " "
   ]
  },
  {
   "cell_type": "code",
   "execution_count": null,
   "id": "3af3521b",
   "metadata": {},
   "outputs": [],
   "source": [
    "print(chinese)\n",
    "print(len(chinese))\n",
    "\n",
    " "
   ]
  },
  {
   "cell_type": "code",
   "execution_count": null,
   "id": "a22c3f8b",
   "metadata": {},
   "outputs": [],
   "source": [
    " "
   ]
  },
  {
   "cell_type": "code",
   "execution_count": null,
   "id": "4b5da1ca",
   "metadata": {},
   "outputs": [],
   "source": [
    "a=0\n",
    "type_=[]\n",
    "title_=[]\n",
    "for i in chinese:\n",
    "    if a==0 or a%2==0:\n",
    "        type_.append(i)\n",
    "    else:\n",
    "        title_.append(i)\n",
    "    a+=1\n",
    "            \n",
    "print(type_)\n",
    "print(title_)\n",
    "\n",
    "print(len(type_))\n",
    "print(len(title_))"
   ]
  },
  {
   "cell_type": "code",
   "execution_count": null,
   "id": "fcf95b4e",
   "metadata": {},
   "outputs": [],
   "source": []
  },
  {
   "cell_type": "code",
   "execution_count": null,
   "id": "78ec823a",
   "metadata": {},
   "outputs": [],
   "source": [
    "time_click=[]\n",
    "for i in text:\n",
    "    if not is_contain_chinese(i):\n",
    "        time_click.append(i)\n",
    "print(time_click)\n",
    "print(len(time_click))"
   ]
  },
  {
   "cell_type": "code",
   "execution_count": null,
   "id": "9018c0b3",
   "metadata": {},
   "outputs": [],
   "source": [
    "\n",
    "a=0\n",
    "time_=[]\n",
    "click_=[]\n",
    "for i in time_click:\n",
    "    if a==0 or a%3==0:\n",
    "        time_.append(i)\n",
    "    if a==1 or (a-1)%3==0:\n",
    "        click_.append(i)\n",
    "    a+=1      \n",
    "print(time_)\n",
    "print(click_)\n",
    "\n",
    "print(len(time_))\n",
    "print(len(click_))\n",
    "\n"
   ]
  },
  {
   "cell_type": "code",
   "execution_count": null,
   "id": "1b6def45",
   "metadata": {},
   "outputs": [],
   "source": [
    "#LOOK HERE!!!!!!!!!!!!!!!!!!!!!!!!!!!!!!!!!!!!!!!!!!!!!!!!!!!!\n",
    "print(len(time_))\n",
    "print(len(click_))\n",
    "print(len(type_))\n",
    "print(len(title_))\n",
    "#LOOK HERE!!!!!!!!!!!!!!!!!!!!!!!!!!!!!!!!!!!!!!!!!!!!!!!!!!!!\n"
   ]
  },
  {
   "cell_type": "code",
   "execution_count": null,
   "id": "9eb02401",
   "metadata": {},
   "outputs": [],
   "source": [
    "# with open(\"8月typen_.txt\", \"w\") as f:\n",
    "#     for s in type_:\n",
    "#         f.write(str(s) +\"\\n\")\n",
    "# with open(\"8月titlen_.txt\", \"w\",errors = 'ignore') as f:\n",
    "#     for s in title_:\n",
    "#         f.write(str(s) +\"\\n\")\n",
    "# with open(\"8月timen_.txt\", \"w\") as f:\n",
    "#     for s in time_:\n",
    "#         f.write(str(s) +\"\\n\")\n",
    "# with open(\"8月clickn_.txt\", \"w\") as f:\n",
    "#     for s in click_:\n",
    "#         f.write(str(s) +\"\\n\")\n",
    " "
   ]
  },
  {
   "cell_type": "code",
   "execution_count": null,
   "id": "6c1c5f05",
   "metadata": {},
   "outputs": [],
   "source": []
  },
  {
   "cell_type": "code",
   "execution_count": null,
   "id": "2751c094",
   "metadata": {},
   "outputs": [],
   "source": []
  },
  {
   "cell_type": "code",
   "execution_count": null,
   "id": "4a9d5e62",
   "metadata": {},
   "outputs": [],
   "source": [
    "# #0  write something\n",
    "# fo = open(\"8月typen_.txt\", \"a\") # safer than w mode\n",
    "# for s in type_:\n",
    "#     fo.write(str(s)+\"\\n\")\n",
    "# fo.close()\n",
    "# #1  write something\n",
    "\n",
    "# fo1 = open(\"8月titlen_.txt\", \"a\",errors = 'ignore') # safer than w mode\n",
    "# for s in title_:\n",
    "#     fo1.write(str(s)+\"\\n\")\n",
    "# fo1.close()\n",
    "# #2  write something\n",
    "# fo2 = open(\"8月timen_.txt\", \"a\") # safer than w mode\n",
    "# for s in time_:\n",
    "#     fo2.write(str(s)+\"\\n\")\n",
    "# fo2.close()\n",
    "# # 3  write something\n",
    "# fo3 = open(\"8月clickn_.txt\", \"a\") # safer than w mode\n",
    "# for s in click_:\n",
    "#     fo3.write(str(s)+\"\\n\")\n",
    "# fo3.close()"
   ]
  },
  {
   "cell_type": "code",
   "execution_count": null,
   "id": "050e83f1",
   "metadata": {},
   "outputs": [],
   "source": [
    "#  # # # # 將剛剛存起來的string轉成list\n",
    "\n",
    "# type_re=[]\n",
    "\n",
    "\n",
    "# with open(\"8月typen_.txt\", \"r\") as f:\n",
    "#   for line in f:\n",
    "#     type_re.append(line.strip())\n",
    "# print(type_re)\n",
    "# print(len(type_re))\n",
    "\n",
    "\n",
    "\n",
    "# title_re=[]\n",
    "\n",
    "\n",
    "# with open(\"8月titlen_.txt\", \"r\") as f:\n",
    "#   for line in f:\n",
    "#     title_re.append(line.strip())\n",
    "# print(title_re)\n",
    "# print(len(title_re))\n",
    "\n",
    "\n",
    "# time_re=[]\n",
    "\n",
    "\n",
    "# with open(\"8月timen_.txt\", \"r\") as f:\n",
    "#   for line in f:\n",
    "#     time_re.append(line.strip())\n",
    "# print(time_re)\n",
    "# print(len(time_re))\n",
    "\n",
    "\n",
    "# click_re=[]\n",
    "\n",
    "\n",
    "# with open(\"8月clickn_.txt\", \"r\") as f:\n",
    "#   for line in f:\n",
    "#     click_re.append(line.strip())\n",
    "# print(click_re)\n",
    "# print(len(click_re))\n"
   ]
  },
  {
   "cell_type": "code",
   "execution_count": null,
   "id": "a70c0c85",
   "metadata": {},
   "outputs": [],
   "source": []
  },
  {
   "cell_type": "code",
   "execution_count": null,
   "id": "13faa673",
   "metadata": {},
   "outputs": [],
   "source": [
    "#  import pandas as pd"
   ]
  },
  {
   "cell_type": "code",
   "execution_count": null,
   "id": "00ef6a2c",
   "metadata": {},
   "outputs": [],
   "source": [
    "# num=[]\n",
    "# for i in  click_re:\n",
    "#     if i.isdigit():\n",
    "#         num.append(int(i))\n",
    "# data = {\n",
    "#      '上傳日期': time_re,\n",
    "#      '新聞類型': type_re,\n",
    "#      '新聞標題': title_re,\n",
    "#      '點閱次數': click_re,\n",
    "#  }\n",
    "# df=pd.DataFrame(data, columns=['上傳日期','新聞類型','新聞標題','點閱次數'])\n",
    "# print(df)\n",
    " "
   ]
  },
  {
   "cell_type": "code",
   "execution_count": null,
   "id": "7a7d4e90",
   "metadata": {},
   "outputs": [],
   "source": [
    "# import operator\n",
    "# from operator import itemgetter\n"
   ]
  },
  {
   "cell_type": "code",
   "execution_count": null,
   "id": "824b2630",
   "metadata": {},
   "outputs": [],
   "source": []
  },
  {
   "cell_type": "code",
   "execution_count": null,
   "id": "cfa0f283",
   "metadata": {},
   "outputs": [],
   "source": [
    "# df_list=df.values.tolist()\n",
    "# print(df_list) \n",
    "        "
   ]
  },
  {
   "cell_type": "code",
   "execution_count": null,
   "id": "948c20fc",
   "metadata": {},
   "outputs": [],
   "source": [
    "# i=3\n",
    "# for k in df_list:\n",
    "#     for j in k:\n",
    "#         df_list[df_list.index(k)][i]=int(df_list[df_list.index(k)][i])\n",
    "# print(type(df_list[2][3]))"
   ]
  },
  {
   "cell_type": "code",
   "execution_count": null,
   "id": "3aa82113",
   "metadata": {},
   "outputs": [],
   "source": [
    "# sort=sorted(df_list, key = itemgetter(3),reverse=True)\n",
    "# print(sort)"
   ]
  },
  {
   "cell_type": "code",
   "execution_count": null,
   "id": "0987ed6d",
   "metadata": {},
   "outputs": [],
   "source": [
    "# pd.set_option('display.max_rows', None)\n",
    "# df =pd. DataFrame(sort,columns=['上傳日期','新聞類型','新聞標題','點閱次數'])\n",
    "# print(df)\n"
   ]
  },
  {
   "cell_type": "code",
   "execution_count": null,
   "id": "82186453",
   "metadata": {},
   "outputs": [],
   "source": [
    "# pip install openpyxl"
   ]
  },
  {
   "cell_type": "code",
   "execution_count": null,
   "id": "e632bc98",
   "metadata": {},
   "outputs": [],
   "source": [
    "# writer=pd.ExcelWriter('all_08n.xlsx')\n",
    "# df.to_excel(writer)\n",
    "# writer.save()\n",
    "# print('success')"
   ]
  },
  {
   "cell_type": "code",
   "execution_count": null,
   "id": "6d305ed2",
   "metadata": {},
   "outputs": [],
   "source": [
    "# from operator import itemgetter"
   ]
  },
  {
   "cell_type": "code",
   "execution_count": null,
   "id": "11497da7",
   "metadata": {},
   "outputs": [],
   "source": [
    "# taiwan=[]\n",
    "# china=[]\n",
    "# international=[]\n",
    "# economy=[]\n",
    "\n",
    "# for i in df_list:\n",
    "#     for y in i:\n",
    "#         if(y==\"台灣新聞\"):\n",
    "#             taiwan.append(i)\n",
    "#         if(y=='大陸新聞'):\n",
    "#             china.append(i)\n",
    "#         if(y=='國際新聞'):\n",
    "#             international.append(i)\n",
    "#         if(y=='產經新聞'):\n",
    "#             economy.append(i)\n",
    "\n",
    "    \n",
    "# sort_taiwan=''\n",
    "# sort_china=''\n",
    "# sort_international=''\n",
    "# sort_economy=''\n",
    "\n",
    " \n",
    "# sort_taiwan=sorted(taiwan, key=itemgetter(3), reverse=True)\n",
    "# print(sort_taiwan)\n",
    "\n",
    " \n",
    "# sort_china=sorted(china, key=itemgetter(3), reverse=True)\n",
    "# print(sort_china)\n",
    "\n",
    " \n",
    "# sort_international=sorted(international, key=itemgetter(3), reverse=True)\n",
    "# print(sort_international)\n",
    " \n",
    "# sort_economy=sorted(economy, key=itemgetter(3), reverse=True)\n",
    "# print(sort_economy)\n"
   ]
  },
  {
   "cell_type": "code",
   "execution_count": null,
   "id": "15f5bde3",
   "metadata": {},
   "outputs": [],
   "source": [
    " \n",
    "# taiwan1=pd.DataFrame(sort_taiwan,columns=['上傳日期','新聞類型','新聞標題','點閱次數'])\n",
    "# print(taiwan1)\n",
    "# china1=pd.DataFrame(sort_china,columns=['上傳日期','新聞類型','新聞標題','點閱次數'])\n",
    "# print(china1)\n",
    "# international1=pd.DataFrame(sort_international,columns=['上傳日期','新聞類型','新聞標題','點閱次數'])\n",
    "# print(international1)\n",
    "# economy1=pd.DataFrame(sort_economy,columns=['上傳日期','新聞類型','新聞標題','點閱次數'])\n",
    "# print(economy1)"
   ]
  },
  {
   "cell_type": "code",
   "execution_count": null,
   "id": "b167e2ac",
   "metadata": {},
   "outputs": [],
   "source": [
    "# writer=pd.ExcelWriter('taiwan_03.xlsx')\n",
    "# taiwan1.to_excel(writer)\n",
    "# writer.save()\n",
    "# print('success1')\n",
    "\n",
    "# writer=pd.ExcelWriter('international_03.xlsx')\n",
    "# international1.to_excel(writer)\n",
    "# writer.save()\n",
    "# print('success2')\n",
    "\n",
    "# writer=pd.ExcelWriter('china_03.xlsx')\n",
    "# china1.to_excel(writer)\n",
    "# writer.save()\n",
    "# print('success3')\n",
    "\n",
    "# writer=pd.ExcelWriter('economy_03.xlsx')\n",
    "# economy1.to_excel(writer)\n",
    "# writer.save()\n",
    "# print('success4')"
   ]
  },
  {
   "cell_type": "code",
   "execution_count": null,
   "id": "73917187",
   "metadata": {},
   "outputs": [],
   "source": []
  }
 ],
 "metadata": {
  "kernelspec": {
   "display_name": "Python 3",
   "language": "python",
   "name": "python3"
  },
  "language_info": {
   "codemirror_mode": {
    "name": "ipython",
    "version": 3
   },
   "file_extension": ".py",
   "mimetype": "text/x-python",
   "name": "python",
   "nbconvert_exporter": "python",
   "pygments_lexer": "ipython3",
   "version": "3.8.8"
  }
 },
 "nbformat": 4,
 "nbformat_minor": 5
}
