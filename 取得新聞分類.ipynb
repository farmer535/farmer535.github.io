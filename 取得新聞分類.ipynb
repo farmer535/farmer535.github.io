{
 "cells": [
  {
   "cell_type": "code",
   "execution_count": null,
   "id": "0d67babb",
   "metadata": {},
   "outputs": [],
   "source": [
    " pip install beautifulsoup4"
   ]
  },
  {
   "cell_type": "code",
   "execution_count": null,
   "id": "fb41ca30",
   "metadata": {},
   "outputs": [],
   "source": [
    "from bs4 import BeautifulSoup"
   ]
  },
  {
   "cell_type": "code",
   "execution_count": null,
   "id": "1d6d1ee3",
   "metadata": {},
   "outputs": [],
   "source": [
    "# html_doc = \"\"\" \n",
    "\n",
    "# \"\"\"\n",
    "\n",
    "# # 以 Beautiful Soup 解析 HTML 程式碼\n",
    "# soup = BeautifulSoup(html_doc,\"html.parser\")"
   ]
  },
  {
   "cell_type": "code",
   "execution_count": null,
   "id": "46d1223c",
   "metadata": {},
   "outputs": [],
   "source": [
    "# html_doc = \"\"\" \n",
    "\n",
    "# \"\"\"\n",
    "\n",
    "# # 以 Beautiful Soup 解析 HTML 程式碼\n",
    "# soup = BeautifulSoup(html_doc,\"html.parser\")"
   ]
  },
  {
   "cell_type": "code",
   "execution_count": null,
   "id": "18262057",
   "metadata": {},
   "outputs": [],
   "source": [
    "input_=soup.find_all([\"label\"])"
   ]
  },
  {
   "cell_type": "code",
   "execution_count": null,
   "id": "ac45d4ab",
   "metadata": {},
   "outputs": [],
   "source": [
    " "
   ]
  },
  {
   "cell_type": "code",
   "execution_count": null,
   "id": "85af0566",
   "metadata": {},
   "outputs": [],
   "source": [
    "pure = []\n",
    "for x in input_:\n",
    "    pure.append(str(x))\n",
    " \n",
    " "
   ]
  },
  {
   "cell_type": "code",
   "execution_count": null,
   "id": "6461982b",
   "metadata": {},
   "outputs": [],
   "source": []
  },
  {
   "cell_type": "code",
   "execution_count": null,
   "id": "30c77f31",
   "metadata": {},
   "outputs": [],
   "source": [
    "pure1=[]\n",
    "text='checked=\"checked\"'\n",
    "matching = [s for s in pure if 'checked=\"checked\"' in s]\n",
    "\n",
    "print(matching)"
   ]
  },
  {
   "cell_type": "code",
   "execution_count": null,
   "id": "d5f94bf8",
   "metadata": {},
   "outputs": [],
   "source": [
    "def remove_tags(html):\n",
    "  \n",
    "    # parse html content\n",
    "    soup = BeautifulSoup(html, \"html.parser\")\n",
    "  \n",
    "    for data in soup(['style', 'script']):\n",
    "        # Remove tags\n",
    "        data.decompose()\n",
    "  \n",
    "    # return data by retrieving the tag content\n",
    "    return ' '.join(soup.stripped_strings)"
   ]
  },
  {
   "cell_type": "code",
   "execution_count": null,
   "id": "0a7f1e6f",
   "metadata": {},
   "outputs": [],
   "source": [
    "word=[]\n",
    "for i in matching:\n",
    "    word.append(remove_tags(i))"
   ]
  },
  {
   "cell_type": "code",
   "execution_count": null,
   "id": "e613472b",
   "metadata": {},
   "outputs": [],
   "source": [
    "print (word)"
   ]
  },
  {
   "cell_type": "code",
   "execution_count": null,
   "id": "b7068cfb",
   "metadata": {},
   "outputs": [],
   "source": [
    "word=' '.join(word)"
   ]
  },
  {
   "cell_type": "code",
   "execution_count": null,
   "id": "19f18141",
   "metadata": {},
   "outputs": [],
   "source": [
    "word=word.replace('是','')\n",
    "word=word.replace('否','')\n",
    "word=word.replace(' ','/')\n",
    "word=word.replace('//','')\n",
    "word=word.replace('///','')\n",
    "print(word)"
   ]
  },
  {
   "cell_type": "code",
   "execution_count": null,
   "id": "d024090c",
   "metadata": {},
   "outputs": [],
   "source": [
    " "
   ]
  }
 ],
 "metadata": {
  "kernelspec": {
   "display_name": "Python 3",
   "language": "python",
   "name": "python3"
  },
  "language_info": {
   "codemirror_mode": {
    "name": "ipython",
    "version": 3
   },
   "file_extension": ".py",
   "mimetype": "text/x-python",
   "name": "python",
   "nbconvert_exporter": "python",
   "pygments_lexer": "ipython3",
   "version": "3.8.8"
  }
 },
 "nbformat": 4,
 "nbformat_minor": 5
}
