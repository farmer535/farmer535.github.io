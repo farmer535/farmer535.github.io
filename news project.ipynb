{
 "cells": [
  {
   "cell_type": "code",
   "execution_count": null,
   "id": "9495b08f",
   "metadata": {},
   "outputs": [],
   "source": [
    "pip install beautifulsoup4"
   ]
  },
  {
   "cell_type": "code",
   "execution_count": null,
   "id": "e5f17e90",
   "metadata": {},
   "outputs": [],
   "source": [
    "from bs4 import BeautifulSoup"
   ]
  },
  {
   "cell_type": "code",
   "execution_count": null,
   "id": "38025356",
   "metadata": {},
   "outputs": [],
   "source": [
    " HTML_DOC = \"\"\"\n",
    "   \n",
    "            \"\"\"\n",
    "# Function to remove tags\n",
    "def remove_tags(html):\n",
    "  \n",
    "    # parse html content\n",
    "    soup = BeautifulSoup(html, \"html.parser\")\n",
    "  \n",
    "    for data in soup(['style', 'script']):\n",
    "        # Remove tags\n",
    "        data.decompose()\n",
    "  \n",
    "    # return data by retrieving the tag content\n",
    "    return ' '.join(soup.stripped_strings)\n",
    "  \n",
    "  \n",
    "# Print the extracted data\n",
    "print(remove_tags(HTML_DOC))"
   ]
  },
  {
   "cell_type": "code",
   "execution_count": null,
   "id": "e85cada6",
   "metadata": {},
   "outputs": [],
   "source": [
    "#  HTML_DOC = \"\"\"\n",
    "   \n",
    "#             \"\"\"\n",
    "# # Function to remove tags\n",
    "# def remove_tags(html):\n",
    "  \n",
    "#     # parse html content\n",
    "#     soup = BeautifulSoup(html, \"html.parser\")\n",
    "  \n",
    "#     for data in soup(['style', 'script']):\n",
    "#         # Remove tags\n",
    "#         data.decompose()\n",
    "  \n",
    "#     # return data by retrieving the tag content\n",
    "#     return ' '.join(soup.stripped_strings)\n",
    "  \n",
    "  \n",
    "# # Print the extracted data\n",
    "# print(remove_tags(HTML_DOC))"
   ]
  },
  {
   "cell_type": "code",
   "execution_count": null,
   "id": "9b0c8c37",
   "metadata": {},
   "outputs": [],
   "source": [
    "text=remove_tags(HTML_DOC) \n",
    "text=text.split()\n",
    "# turn string to list\n",
    "\n",
    "# clean basic data, text.index('操作'))=>find index\n",
    "del text[0:86]\n",
    "for i in text:\n",
    "    if i=='共':\n",
    "        del text[text.index(i):] \n",
    "\n",
    "# turn list to string \n",
    "text=' '.join(text)\n",
    "text=text.replace('/','') \n",
    "text=text.replace('編輯','')\n",
    "text=text.replace('鋼鐵新聞','')\n",
    " \n",
    "text=text.split()\n",
    "print(text)\n"
   ]
  },
  {
   "cell_type": "code",
   "execution_count": null,
   "id": "efff38f6",
   "metadata": {},
   "outputs": [],
   "source": [
    "def is_contain_chinese(check_str):\n",
    "    for ch in check_str:\n",
    "        if u'\\u4e00' <= ch <= u'\\u9fff':\n",
    "            return True\n",
    "    return False"
   ]
  },
  {
   "cell_type": "code",
   "execution_count": null,
   "id": "66df511e",
   "metadata": {},
   "outputs": [],
   "source": [
    "chinese=[]\n",
    "for i in text:\n",
    "    if is_contain_chinese(i):\n",
    "        chinese.append(i)\n",
    "        \n",
    "chinese=' '.join(chinese)\n",
    "chinese=chinese.replace(' ','')\n",
    "\n",
    "chinese=chinese.replace('國際新聞',',國際新聞,')\n",
    "chinese=chinese.replace('台灣新聞',',台灣新聞,')\n",
    "chinese=chinese.replace('大陸新聞',',大陸新聞,')\n",
    "chinese=chinese.replace('產經新聞',',產經新聞,')\n",
    "chinese=chinese.replace(',,',',')\n",
    "\n",
    " \n",
    " \n",
    "chinese=chinese.split(',')\n",
    "del chinese[0]\n",
    "\n",
    "print(chinese)\n",
    "\n",
    "print(len(chinese))\n",
    "\n",
    "# print(chinese)\n",
    "# print(len(chinese))\n",
    "# print(chinese[41])\n",
    "\n",
    "# chinese.insert(?,'NAN')\n",
    "\n",
    "# print(len(chinese))\n",
    "\n",
    "# a=0\n",
    "\n",
    "# for i in chinese:\n",
    "#     if a==0 or a%3==0:\n",
    "#         chinese.remove(i)\n",
    "#     a+=1\n",
    "# print(chinese)"
   ]
  },
  {
   "cell_type": "code",
   "execution_count": null,
   "id": "bf22c3df",
   "metadata": {},
   "outputs": [],
   "source": [
    "a=0\n",
    "type_=[]\n",
    "title_=[]\n",
    "for i in chinese:\n",
    "    if a==0 or a%2==0:\n",
    "        type_.append(i)\n",
    "    else:\n",
    "        title_.append(i)\n",
    "    a+=1\n",
    "            \n",
    "print(type_)\n",
    "print(title_)\n",
    "\n",
    "print(len(type_))\n",
    "print(len(title_))"
   ]
  },
  {
   "cell_type": "code",
   "execution_count": null,
   "id": "4ed64f07",
   "metadata": {},
   "outputs": [],
   "source": [
    "time_click=[]\n",
    "for i in text:\n",
    "    if not is_contain_chinese(i):\n",
    "        time_click.append(i)\n",
    "print(time_click)\n",
    "print(len(time_click))"
   ]
  },
  {
   "cell_type": "code",
   "execution_count": null,
   "id": "fb147d84",
   "metadata": {},
   "outputs": [],
   "source": [
    "a=0\n",
    "time_=[]\n",
    "click_=[]\n",
    "for i in time_click:\n",
    "    if a==0 or a%2==0:\n",
    "        time_.append(i)\n",
    "    else:\n",
    "        click_.append(int(i))\n",
    "    a+=1\n",
    "            \n",
    "print(time_)\n",
    "print(click_)\n",
    "\n",
    "print(len(time_))\n",
    "print(len(click_))\n",
    " "
   ]
  },
  {
   "cell_type": "code",
   "execution_count": null,
   "id": "8691a28c",
   "metadata": {},
   "outputs": [],
   "source": [
    "#LOOK HERE!!!!!!!!!!!!!!!!!!!!!!!!!!!!!!!!!!!!!!!!!!!!!!!!!!!!\n",
    "print(len(time_))\n",
    "print(len(click_))\n",
    "print(len(type_))\n",
    "print(len(title_))\n",
    "#LOOK HERE!!!!!!!!!!!!!!!!!!!!!!!!!!!!!!!!!!!!!!!!!!!!!!!!!!!!"
   ]
  },
  {
   "cell_type": "code",
   "execution_count": null,
   "id": "058f6157",
   "metadata": {},
   "outputs": [],
   "source": [
    " "
   ]
  },
  {
   "cell_type": "code",
   "execution_count": null,
   "id": "65d69b6a",
   "metadata": {},
   "outputs": [],
   "source": []
  },
  {
   "cell_type": "code",
   "execution_count": null,
   "id": "4fa94525",
   "metadata": {},
   "outputs": [],
   "source": [
    "\n"
   ]
  },
  {
   "cell_type": "code",
   "execution_count": null,
   "id": "92366e6d",
   "metadata": {},
   "outputs": [],
   "source": [
    "\n",
    "# with open(\"2月type_new.txt\", \"w\") as f:\n",
    "#     for s in type_:\n",
    "#         f.write(str(s) +\"\\n\")\n",
    "# with open(\"2月title_new.txt\", \"w\") as f:\n",
    "#     for s in title_:\n",
    "#         f.write(str(s) +\"\\n\")\n",
    "# with open(\"2月time_new.txt\", \"w\") as f:\n",
    "#     for s in time_:\n",
    "#         f.write(str(s) +\"\\n\")\n",
    "# with open(\"2月click_new.txt\", \"w\") as f:\n",
    "#     for s in click_:\n",
    "#         f.write(str(s) +\"\\n\")\n",
    "\n",
    "\n",
    "# 創建一個file把list用string方式放進去 \n",
    "# type_\n",
    "# title_\n",
    "# time_\n",
    "# click_"
   ]
  },
  {
   "cell_type": "code",
   "execution_count": null,
   "id": "29fd6022",
   "metadata": {},
   "outputs": [],
   "source": [
    "\n",
    "# # 0  write something\n",
    "# fo = open(\"2月type_new.txt\", \"a\") # safer than w mode\n",
    "# for s in type_:\n",
    "#     fo.write(str(s)+\"\\n\")\n",
    "# fo.close()\n",
    "\n",
    "# # 1  write something\n",
    "# fo1 = open(\"2月title_new.txt\", \"a\") # safer than w mode\n",
    "# for s in title_:\n",
    "#     fo1.write(str(s)+\"\\n\")\n",
    "# fo1.close()\n",
    "\n",
    "# # 2  write something\n",
    "# fo2 = open(\"2月time_new.txt\", \"a\") # safer than w mode\n",
    "# for s in time_:\n",
    "#     fo2.write(str(s)+\"\\n\")\n",
    "# fo2.close()\n",
    "\n",
    "# # 3  write something\n",
    "# fo3 = open(\"2月click_new.txt\", \"a\") # safer than w mode\n",
    "# for s in click_:\n",
    "#     fo3.write(str(s)+\"\\n\")\n",
    "# fo3.close()\n",
    "\n",
    "\n",
    "\n",
    "\n",
    "# 打開已知的file 寫入string\n",
    "# Open a file\n",
    "\n",
    "# type_\n",
    "# title_\n",
    "# time_\n",
    "# click_\n"
   ]
  },
  {
   "cell_type": "code",
   "execution_count": null,
   "id": "234d7816",
   "metadata": {},
   "outputs": [],
   "source": [
    "# # 將剛剛存起來的string轉成list\n",
    "\n",
    "# type_re=[]\n",
    "# title_re=[]\n",
    "# time_re=[]\n",
    "# click_re=[]\n",
    "\n",
    "# with open(\"2月type_new.txt\", \"r\") as f:\n",
    "#   for line in f:\n",
    "#     type_re.append(line.strip())\n",
    "# print(type_re)\n",
    "# print(len(type_re))\n",
    "# with open(\"2月title_new.txt\", \"r\") as f:\n",
    "#   for line in f:\n",
    "#     title_re.append(line.strip())\n",
    "    \n",
    "# print(title_re)\n",
    "# print(len(title_re))\n",
    "# with open(\"2月time_new.txt\", \"r\") as f:\n",
    "#   for line in f:\n",
    "#     time_re.append(line.strip())\n",
    "    \n",
    "# print(time_re)\n",
    "# print(len(time_re))\n",
    "\n",
    "# with open(\"2月click_new.txt\", \"r\") as f:\n",
    "#   for line in f:\n",
    "#     click_re.append(line.strip())\n",
    "    \n",
    "# print(click_re)\n",
    "# print(len(click_re))\n",
    "\n",
    " "
   ]
  },
  {
   "cell_type": "code",
   "execution_count": null,
   "id": "9199cd92",
   "metadata": {},
   "outputs": [],
   "source": []
  },
  {
   "cell_type": "code",
   "execution_count": null,
   "id": "d3f00f82",
   "metadata": {},
   "outputs": [],
   "source": [
    "#######if above ok then append to below###############"
   ]
  },
  {
   "cell_type": "code",
   "execution_count": null,
   "id": "61c4840a",
   "metadata": {},
   "outputs": [],
   "source": [
    "\n",
    "# with open(\"2月type_new1.txt\", \"w\") as f:\n",
    "#     for s in type_:\n",
    "#         f.write(str(s) +\"\\n\")\n",
    "# with open(\"2月title_new1.txt\", \"w\") as f:\n",
    "#     for s in title_:\n",
    "#         f.write(str(s) +\"\\n\")\n",
    "# with open(\"2月time_new1.txt\", \"w\") as f:\n",
    "#     for s in time_:\n",
    "#         f.write(str(s) +\"\\n\")\n",
    "# with open(\"2月click_new1.txt\", \"w\") as f:\n",
    "#     for s in click_:\n",
    "#         f.write(str(s) +\"\\n\")\n",
    "\n",
    "\n",
    "#創建一個file把list用string方式放進去 \n",
    "# type_\n",
    "# title_\n",
    "# time_\n",
    "# click_"
   ]
  },
  {
   "cell_type": "code",
   "execution_count": null,
   "id": "f8699893",
   "metadata": {},
   "outputs": [],
   "source": [
    "# # 0  write something\n",
    "# fo = open(\"2月type_new1.txt\", \"a\") # safer than w mode\n",
    "# for s in type_:\n",
    "#     fo.write(str(s)+\"\\n\")\n",
    "# fo.close()\n",
    "\n",
    "# # 1  write something\n",
    "# fo1 = open(\"2月title_new1.txt\", \"a\") # safer than w mode\n",
    "# for s in title_:\n",
    "#     fo1.write(str(s)+\"\\n\")\n",
    "# fo1.close()\n",
    "\n",
    "# # 2  write something\n",
    "# fo2 = open(\"2月time_new1.txt\", \"a\") # safer than w mode\n",
    "# for s in time_:\n",
    "#     fo2.write(str(s)+\"\\n\")\n",
    "# fo2.close()\n",
    "\n",
    "# # 3  write something\n",
    "# fo3 = open(\"2月click_new1.txt\", \"a\") # safer than w mode\n",
    "# for s in click_:\n",
    "#     fo3.write(str(s)+\"\\n\")\n",
    "# fo3.close()\n",
    "\n",
    "\n",
    "\n",
    "\n",
    "# 打開已知的file 寫入string\n",
    "# Open a file\n",
    "\n",
    "# type_\n",
    "# title_\n",
    "# time_\n",
    "# click_"
   ]
  },
  {
   "cell_type": "code",
   "execution_count": null,
   "id": "7c659f07",
   "metadata": {},
   "outputs": [],
   "source": [
    "# # 將剛剛存起來的string轉成list\n",
    "\n",
    "# type_re=[]\n",
    "# title_re=[]\n",
    "# time_re=[]\n",
    "# click_re=[]\n",
    "\n",
    "# with open(\"2月type_new1.txt\", \"r\") as f:\n",
    "#   for line in f:\n",
    "#     type_re.append(line.strip())\n",
    "# print(type_re)\n",
    "# print(len(type_re))\n",
    "# with open(\"2月title_new1.txt\", \"r\") as f:\n",
    "#   for line in f:\n",
    "#     title_re.append(line.strip())\n",
    "    \n",
    "# print(title_re)\n",
    "# print(len(title_re))\n",
    "# with open(\"2月time_new1.txt\", \"r\") as f:\n",
    "#   for line in f:\n",
    "#     time_re.append(line.strip())\n",
    "    \n",
    "# print(time_re)\n",
    "# print(len(time_re))\n",
    "\n",
    "# with open(\"2月click_new1.txt\", \"r\") as f:\n",
    "#   for line in f:\n",
    "#     click_re.append(line.strip())\n",
    "    \n",
    "# print(click_re)\n",
    "# print(len(click_re))\n"
   ]
  },
  {
   "cell_type": "code",
   "execution_count": null,
   "id": "fb6b769f",
   "metadata": {},
   "outputs": [],
   "source": [
    "#  import pandas as pd\n",
    " "
   ]
  },
  {
   "cell_type": "code",
   "execution_count": null,
   "id": "beae1521",
   "metadata": {},
   "outputs": [],
   "source": [
    "# title_re=\" \".join(title_re)\n",
    "# print(title_re)\n",
    "# title_re=title_re.replace('鋼 鐵 新 聞','')\n",
    "# print(title_re)\n",
    "\n",
    "\n",
    "# title_re=\" \".join(title_re)\n",
    "# title_re=title_re.replace('鋼鐵新聞','')\n",
    " \n",
    "\n",
    "# title_re=title_re.split(\",\")\n",
    "# print(title_re)\n",
    "\n",
    "# print(title_re)\n",
    "\n",
    "# title_re=\" \".join(title_re)\n",
    " \n",
    "# print(title_re)\n",
    "\n",
    "# title_re=title_re.replace(' ',',')\n",
    "# print(title_re)\n",
    "# title_re=title_re.split(\",\")\n",
    "# print(title_re)\n",
    "\n",
    "# print(len(title_re))"
   ]
  },
  {
   "cell_type": "code",
   "execution_count": null,
   "id": "429569a6",
   "metadata": {},
   "outputs": [],
   "source": [
    "# print(title_re)"
   ]
  },
  {
   "cell_type": "code",
   "execution_count": null,
   "id": "3d190c0a",
   "metadata": {},
   "outputs": [],
   "source": [
    "# num=[]\n",
    "# for i in  click_re:\n",
    "#     if i.isdigit():\n",
    "#         i=int(i)\n",
    "#         num.append(i)\n",
    "# data = {\n",
    "#      '上傳日期': time_re,\n",
    "#      '新聞類型': type_re,\n",
    "#      '新聞標題': title_re,\n",
    "#      '點閱次數': num,\n",
    "#  }\n",
    "# df=pd.DataFrame(data, columns=['上傳日期','新聞類型','新聞標題','點閱次數'])\n",
    "# print(df)"
   ]
  },
  {
   "cell_type": "code",
   "execution_count": null,
   "id": "244b3491",
   "metadata": {},
   "outputs": [],
   "source": [
    "#  df_list=df.values.tolist()\n",
    "#  print(df_list)\n",
    " \n"
   ]
  },
  {
   "cell_type": "code",
   "execution_count": null,
   "id": "7ef3e931",
   "metadata": {},
   "outputs": [],
   "source": [
    "# sort=''\n",
    "# from operator import itemgetter\n",
    "# sort=sorted(df_list, key=itemgetter(3), reverse=True)\n",
    "# print(sort)"
   ]
  },
  {
   "cell_type": "code",
   "execution_count": null,
   "id": "b708e8d5",
   "metadata": {},
   "outputs": [],
   "source": [
    "#  import pandas as pd"
   ]
  },
  {
   "cell_type": "code",
   "execution_count": null,
   "id": "d375b05c",
   "metadata": {},
   "outputs": [],
   "source": [
    "# df=pd.DataFrame(sort,columns=['上傳日期','新聞類型','新聞標題','點閱次數'])\n",
    "# print(df)"
   ]
  },
  {
   "cell_type": "code",
   "execution_count": null,
   "id": "fd54874d",
   "metadata": {},
   "outputs": [],
   "source": [
    "#  %pylab inline\n",
    "#  import matplotlib.pyplot as plt"
   ]
  },
  {
   "cell_type": "code",
   "execution_count": null,
   "id": "8bcad9d9",
   "metadata": {},
   "outputs": [],
   "source": [
    "# taiwan=[]\n",
    "# china=[]\n",
    "# international=[]\n",
    "# economy=[]\n",
    "\n",
    "# for i in df_list:\n",
    "#     for y in i:\n",
    "#         if(y==\"台灣新聞\"):\n",
    "#             taiwan.append(i)\n",
    "#         if(y=='大陸新聞'):\n",
    "#             china.append(i)\n",
    "#         if(y=='國際新聞'):\n",
    "#             international.append(i)\n",
    "#         if(y=='產經新聞'):\n",
    "#             economy.append(i)\n",
    "\n",
    "    \n",
    "# sort_taiwan=''\n",
    "# sort_china=''\n",
    "# sort_international=''\n",
    "# sort_economy=''\n",
    "\n",
    "# from operator import itemgetter\n",
    "# sort_taiwan=sorted(taiwan, key=itemgetter(3), reverse=True)\n",
    "# # print(sort_taiwan)\n",
    "\n",
    "# from operator import itemgetter\n",
    "# sort_china=sorted(china, key=itemgetter(3), reverse=True)\n",
    "# # print(sort_china)\n",
    "\n",
    "# from operator import itemgetter\n",
    "# sort_international=sorted(international, key=itemgetter(3), reverse=True)\n",
    "# # print(sort_international)\n",
    "\n",
    "# from operator import itemgetter\n",
    "# sort_economy=sorted(economy, key=itemgetter(3), reverse=True)\n",
    "# # print(sort_economy)\n",
    "\n",
    "\n"
   ]
  },
  {
   "cell_type": "code",
   "execution_count": null,
   "id": "877382dc",
   "metadata": {},
   "outputs": [],
   "source": [
    "# taiwan1=pd.DataFrame(sort_taiwan,columns=['上傳日期','新聞類型','新聞標題','點閱次數'])\n",
    "# print(taiwan1)\n",
    "# china1=pd.DataFrame(sort_china,columns=['上傳日期','新聞類型','新聞標題','點閱次數'])\n",
    "# print(china1)\n",
    "# international1=pd.DataFrame(sort_international,columns=['上傳日期','新聞類型','新聞標題','點閱次數'])\n",
    "# print(international1)\n",
    "# economy1=pd.DataFrame(sort_economy,columns=['上傳日期','新聞類型','新聞標題','點閱次數'])\n",
    "# print(economy1)"
   ]
  },
  {
   "cell_type": "code",
   "execution_count": null,
   "id": "ab2cd43f",
   "metadata": {},
   "outputs": [],
   "source": [
    "# taiwan1.drop_duplicates(inplace=True)\n",
    "# print(taiwan1)"
   ]
  },
  {
   "cell_type": "code",
   "execution_count": null,
   "id": "5671a307",
   "metadata": {},
   "outputs": [],
   "source": [
    "# china1.drop_duplicates(inplace=True)\n",
    "# print(china1)"
   ]
  },
  {
   "cell_type": "code",
   "execution_count": null,
   "id": "a14d3c89",
   "metadata": {},
   "outputs": [],
   "source": [
    "# international1.drop_duplicates(inplace=True)\n",
    "# print(international1)"
   ]
  },
  {
   "cell_type": "code",
   "execution_count": null,
   "id": "4bfc0c5a",
   "metadata": {},
   "outputs": [],
   "source": [
    "# economy1.drop_duplicates(inplace=True)\n",
    "# print(economy1)"
   ]
  },
  {
   "cell_type": "code",
   "execution_count": null,
   "id": "8df41ce9",
   "metadata": {},
   "outputs": [],
   "source": []
  }
 ],
 "metadata": {
  "kernelspec": {
   "display_name": "Python 3",
   "language": "python",
   "name": "python3"
  },
  "language_info": {
   "codemirror_mode": {
    "name": "ipython",
    "version": 3
   },
   "file_extension": ".py",
   "mimetype": "text/x-python",
   "name": "python",
   "nbconvert_exporter": "python",
   "pygments_lexer": "ipython3",
   "version": "3.8.8"
  }
 },
 "nbformat": 4,
 "nbformat_minor": 5
}
