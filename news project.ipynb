{
 "cells": [
  {
   "cell_type": "code",
   "execution_count": null,
   "id": "59d54a07",
   "metadata": {},
   "outputs": [],
   "source": [
    "pip install beautifulsoup4"
   ]
  },
  {
   "cell_type": "code",
   "execution_count": null,
   "id": "a45eb4ea",
   "metadata": {},
   "outputs": [],
   "source": [
    "from bs4 import BeautifulSoup"
   ]
  },
  {
   "cell_type": "code",
   "execution_count": null,
   "id": "6b6ea734",
   "metadata": {},
   "outputs": [],
   "source": []
  },
  {
   "cell_type": "code",
   "execution_count": null,
   "id": "244ce776",
   "metadata": {},
   "outputs": [],
   "source": []
  },
  {
   "cell_type": "code",
   "execution_count": null,
   "id": "ebb34a84",
   "metadata": {},
   "outputs": [],
   "source": []
  },
  {
   "cell_type": "code",
   "execution_count": null,
   "id": "70b28722",
   "metadata": {},
   "outputs": [],
   "source": [
    " "
   ]
  },
  {
   "cell_type": "code",
   "execution_count": null,
   "id": "4e898fb5",
   "metadata": {},
   "outputs": [],
   "source": [
    "text=text.replace('/','') \n",
    "text=text.replace('編輯','')\n",
    "text=text.replace('鋼鐵新聞','')\n",
    "print(text)\n",
    "print(len(text))\n",
    "text=text.split()\n",
    "turn string to list\n",
    "clean basic data, text.index('操作')=>find index\n",
    "del text[0:86]\n",
    "for i in text:\n",
    "    if i=='共':\n",
    "        del text[text.index(i):] \n",
    "\n",
    "turn list to string \n",
    "text=' '.join(text)"
   ]
  },
  {
   "cell_type": "code",
   "execution_count": null,
   "id": "5836e9d4",
   "metadata": {},
   "outputs": [],
   "source": [
    "def is_contain_chinese(check_str):\n",
    "    for ch in check_str:\n",
    "        if u'\\u4e00' <= ch <= u'\\u9fff':\n",
    "            return True\n",
    "    return False"
   ]
  },
  {
   "cell_type": "code",
   "execution_count": null,
   "id": "feea0cb2",
   "metadata": {},
   "outputs": [],
   "source": [
    "chinese=[]\n",
    "for i in text:\n",
    "    if is_contain_chinese(i):\n",
    "        chinese.append(i)\n",
    "        \n",
    "chinese=' '.join(chinese)\n",
    "chinese=chinese.replace(' ','')\n",
    "\n",
    "chinese=chinese.replace('國際新聞',',國際新聞,')\n",
    "chinese=chinese.replace('台灣新聞',',台灣新聞,')\n",
    "chinese=chinese.replace('大陸新聞',',大陸新聞,')\n",
    "chinese=chinese.replace('產經新聞',',產經新聞,')\n",
    "chinese=chinese.replace(',,',',')\n",
    "\n",
    " \n",
    " \n",
    "chinese=chinese.split(',')\n",
    "del chinese[0]\n",
    "\n",
    "# print(chinese)\n",
    "\n",
    "# print(len(chinese))\n",
    "\n",
    "# print(chinese)\n",
    "# print(len(chinese))\n",
    "# print(chinese[41])\n",
    "\n",
    "# chinese.insert(?,'NAN')\n",
    "\n",
    "# print(len(chinese))\n",
    "\n",
    "# a=0\n",
    "\n",
    "# for i in chinese:\n",
    "#     if a==0 or a%3==0:\n",
    "#         chinese.remove(i)\n",
    "#     a+=1\n",
    " \n",
    "print(chinese)\n",
    "print(len(chinese))\n",
    "\n",
    " \n",
    "\n",
    " "
   ]
  },
  {
   "cell_type": "code",
   "execution_count": null,
   "id": "ce933128",
   "metadata": {},
   "outputs": [],
   "source": [
    "a=0\n",
    "type_=[]\n",
    "title_=[]\n",
    "for i in chinese:\n",
    "    if a==0 or a%2==0:\n",
    "        type_.append(i)\n",
    "    else:\n",
    "        title_.append(i)\n",
    "    a+=1\n",
    "            \n",
    "print(type_)\n",
    "print(title_)\n",
    "\n",
    "print(len(type_))\n",
    "print(len(title_))"
   ]
  },
  {
   "cell_type": "code",
   "execution_count": null,
   "id": "df9863b5",
   "metadata": {},
   "outputs": [],
   "source": [
    "\n",
    "time_click=[]\n",
    "for i in text:\n",
    "    if not is_contain_chinese(i):\n",
    "        time_click.append(i)\n",
    "print(time_click)\n",
    "print(len(time_click))"
   ]
  },
  {
   "cell_type": "code",
   "execution_count": null,
   "id": "8f164eee",
   "metadata": {},
   "outputs": [],
   "source": [
    "\n",
    "a=0\n",
    "time_=[]\n",
    "click_=[]\n",
    "for i in time_click:\n",
    "    if a==0 or a%2==0:\n",
    "        time_.append(i)\n",
    "    else:\n",
    "        click_.append(int(i))\n",
    "    a+=1\n",
    "            \n",
    "print(time_)\n",
    "print(click_)\n",
    "\n",
    "print(len(time_))\n",
    "print(len(click_))"
   ]
  },
  {
   "cell_type": "code",
   "execution_count": null,
   "id": "b601a684",
   "metadata": {},
   "outputs": [],
   "source": [
    "#LOOK HERE!!!!!!!!!!!!!!!!!!!!!!!!!!!!!!!!!!!!!!!!!!!!!!!!!!!!\n",
    "print(len(time_))\n",
    "print(len(click_))\n",
    "print(len(type_))\n",
    "print(len(title_))\n",
    "#LOOK HERE!!!!!!!!!!!!!!!!!!!!!!!!!!!!!!!!!!!!!!!!!!!!!!!!!!!!\n"
   ]
  },
  {
   "cell_type": "code",
   "execution_count": null,
   "id": "2cfa5145",
   "metadata": {},
   "outputs": [],
   "source": []
  },
  {
   "cell_type": "code",
   "execution_count": null,
   "id": "bf228349",
   "metadata": {},
   "outputs": [],
   "source": []
  },
  {
   "cell_type": "code",
   "execution_count": null,
   "id": "f9c2cc88",
   "metadata": {},
   "outputs": [],
   "source": [
    "# with open(\"5月type_.txt\", \"w\") as f:\n",
    "#     for s in type_:\n",
    "#         f.write(str(s) +\"\\n\")\n",
    "# with open(\"5月title_.txt\", \"w\") as f:\n",
    "#     for s in title_:\n",
    "#         f.write(str(s) +\"\\n\")\n",
    "\n",
    " \n",
    "\n",
    "# with open(\"5月time_.txt\", \"w\") as f:\n",
    "#     for s in time_:\n",
    "#         f.write(str(s) +\"\\n\")\n",
    "# with open(\"5月click_.txt\", \"w\") as f:\n",
    "#     for s in click_:\n",
    "#         f.write(str(s) +\"\\n\")\n",
    "\n",
    "\n",
    "# # 創建一個file把list用string方式放進去 \n",
    "# # type_\n",
    "# # title_\n",
    "# # time_\n",
    "# # click_"
   ]
  },
  {
   "cell_type": "code",
   "execution_count": null,
   "id": "d125f484",
   "metadata": {},
   "outputs": [],
   "source": [
    "# # 0  write something\n",
    "# fo = open(\"5月type_.txt\", \"a\") # safer than w mode\n",
    "# for s in type_:\n",
    "#     fo.write(str(s)+\"\\n\")\n",
    "# fo.close()\n",
    "\n",
    "# # 1  write something\n",
    "# fo1 = open(\"5月title_.txt\", \"a\", encoding='UTF-8') # safer than w mode\n",
    "# for s in title_:\n",
    "#     fo1.write(str(s)+\"\\n\")\n",
    "# fo1.close()\n",
    " \n",
    "# # 2  write something\n",
    "# fo2 = open(\"5月time_.txt\", \"a\") # safer than w mode\n",
    "# for s in time_:\n",
    "#     fo2.write(str(s)+\"\\n\")\n",
    "# fo2.close()\n",
    "\n",
    "# # 3  write something\n",
    "# fo3 = open(\"5月click_.txt\", \"a\") # safer than w mode\n",
    "# for s in click_:\n",
    "#     fo3.write(str(s)+\"\\n\")\n",
    "# fo3.close()"
   ]
  },
  {
   "cell_type": "code",
   "execution_count": null,
   "id": "d909a27d",
   "metadata": {},
   "outputs": [],
   "source": [
    "\n",
    "# # # # # # # # # 將剛剛存起來的string轉成list\n",
    "\n",
    "# type_re=[]\n",
    "# title_re=[]\n",
    "\n",
    "\n",
    "# with open(\"5月type_.txt\", \"r\") as f:\n",
    "#   for line in f:\n",
    "#     type_re.append(line.strip())\n",
    "# print(type_re)\n",
    "# print(len(type_re))\n",
    "\n",
    "# with open(\"5月title_.txt\", \"r\") as f:\n",
    "#   for line in f:\n",
    "#     title_re.append(line.strip())\n",
    "    \n",
    "# print(title_re)\n",
    "# print(len(title_re))\n",
    "\n",
    " \n",
    "\n",
    "# time_re=[]\n",
    "# click_re=[]\n",
    "\n",
    "# with open(\"5月time_.txt\", \"r\") as f:\n",
    "#   for line in f:\n",
    "#     time_re.append(line.strip())\n",
    "    \n",
    "# print(time_re)\n",
    "# print(len(time_re))\n",
    "\n",
    "# with open(\"5月click_.txt\", \"r\") as f:\n",
    "#   for line in f:\n",
    "#     click_re.append(line.strip())\n",
    "    \n",
    "# print(click_re)\n",
    "# print(len(click_re))"
   ]
  },
  {
   "cell_type": "code",
   "execution_count": null,
   "id": "c536a15a",
   "metadata": {},
   "outputs": [],
   "source": [
    " "
   ]
  },
  {
   "cell_type": "code",
   "execution_count": null,
   "id": "bc637ed6",
   "metadata": {},
   "outputs": [],
   "source": [
    "\n",
    " "
   ]
  },
  {
   "cell_type": "code",
   "execution_count": null,
   "id": "00a19276",
   "metadata": {},
   "outputs": [],
   "source": [
    "#######DON'T SEE BELOW###############"
   ]
  },
  {
   "cell_type": "code",
   "execution_count": null,
   "id": "72e46cf1",
   "metadata": {},
   "outputs": [],
   "source": [
    "# with open(\"6月type_1.txt\", \"w\") as f:\n",
    "#     for s in type_:\n",
    "#         f.write(str(s) +\"\\n\")\n",
    "# with open(\"6月title_1.txt\", \"w\") as f:\n",
    "#     for s in title_:\n",
    "#         f.write(str(s) +\"\\n\")\n",
    "# with open(\"6月time_1.txt\", \"w\") as f:\n",
    "#     for s in time_:\n",
    "#         f.write(str(s) +\"\\n\")\n",
    "# with open(\"6月click_1.txt\", \"w\") as f:\n",
    "#     for s in click_:\n",
    "#         f.write(str(s) +\"\\n\")\n",
    "\n",
    "\n",
    "#創建一個file把list用string方式放進去 \n",
    "# type_\n",
    "# title_\n",
    "# time_\n",
    "# click_"
   ]
  },
  {
   "cell_type": "code",
   "execution_count": null,
   "id": "be06cee9",
   "metadata": {},
   "outputs": [],
   "source": [
    "# # 0  write something\n",
    "# fo = open(\"6月type_1.txt\", \"a\") # safer than w mode\n",
    "# for s in type_:\n",
    "#     fo.write(str(s)+\"\\n\")\n",
    "# fo.close()\n",
    "\n",
    "# # 1  write something\n",
    "# fo1 = open(\"6月title_1.txt\", \"a\") # safer than w mode\n",
    "# for s in title_:\n",
    "#     fo1.write(str(s)+\"\\n\")\n",
    "# fo1.close()\n",
    "\n",
    "# # 2  write something\n",
    "# fo2 = open(\"6月time_1.txt\", \"a\") # safer than w mode\n",
    "# for s in time_:\n",
    "#     fo2.write(str(s)+\"\\n\")\n",
    "# fo2.close()\n",
    "\n",
    "# # 3  write something\n",
    "# fo3 = open(\"5月click_1.txt\", \"a\") # safer than w mode\n",
    "# for s in click_:\n",
    "#     fo3.write(str(s)+\"\\n\")\n",
    "# fo3.close()"
   ]
  },
  {
   "cell_type": "code",
   "execution_count": null,
   "id": "ebd712bd",
   "metadata": {},
   "outputs": [],
   "source": [
    "# # # # # 將剛剛存起來的string轉成list\n",
    "\n",
    "# type_re=[]\n",
    "# title_re=[]\n",
    "# time_re=[]\n",
    "# click_re=[]\n",
    "\n",
    "# with open(\"6月type_1.txt\", \"r\") as f:\n",
    "#   for line in f:\n",
    "#     type_re.append(line.strip())\n",
    "# print(type_re)\n",
    "# print(len(type_re))\n",
    "# with open(\"6月title_1.txt\", \"r\") as f:\n",
    "#   for line in f:\n",
    "#     title_re.append(line.strip())\n",
    "    \n",
    "# print(title_re)\n",
    "# print(len(title_re))\n",
    "# with open(\"6月time_1.txt\", \"r\") as f:\n",
    "#   for line in f:\n",
    "#     time_re.append(line.strip())\n",
    "    \n",
    "# print(time_re)\n",
    "# print(len(time_re))\n",
    "\n",
    "# with open(\"6月click_1.txt\", \"r\") as f:\n",
    "#   for line in f:\n",
    "#     click_re.append(line.strip())\n",
    "    \n",
    "# print(click_re)\n",
    "# print(len(click_re))"
   ]
  },
  {
   "cell_type": "code",
   "execution_count": null,
   "id": "594d84d0",
   "metadata": {},
   "outputs": [],
   "source": [
    "#  import pandas as pd"
   ]
  },
  {
   "cell_type": "code",
   "execution_count": null,
   "id": "5807ec86",
   "metadata": {},
   "outputs": [],
   "source": [
    "# title_re=\" \".join(title_re)\n",
    "# print(title_re)\n",
    "# title_re=title_re.replace('鋼 鐵 新 聞','')\n",
    "# print(title_re)\n",
    "\n",
    "\n",
    "# title_re=\" \".join(title_re)\n",
    "# title_re=title_re.replace('鋼鐵新聞','')\n",
    " \n",
    "\n",
    "# title_re=title_re.split(\",\")\n",
    "# print(title_re)\n",
    "\n",
    "# print(title_re)\n",
    "\n",
    "# title_re=\" \".join(title_re)\n",
    " \n",
    "# print(title_re)\n",
    "\n",
    "# title_re=title_re.replace(' ',',')\n",
    "# print(title_re)\n",
    "# title_re=title_re.split(\",\")\n",
    "# print(title_re)\n",
    "\n",
    "# print(len(title_re))"
   ]
  },
  {
   "cell_type": "code",
   "execution_count": null,
   "id": "8308ad4f",
   "metadata": {},
   "outputs": [],
   "source": [
    "# print(title_re)"
   ]
  },
  {
   "cell_type": "code",
   "execution_count": null,
   "id": "a43fce39",
   "metadata": {},
   "outputs": [],
   "source": [
    "# num=[]\n",
    "# for i in  click_re:\n",
    "#     if i.isdigit():\n",
    "#         i=int(i)\n",
    "#         num.append(i)\n",
    "# data = {\n",
    "#      '上傳日期': time_re,\n",
    "#      '新聞類型': type_re,\n",
    "#      '新聞標題': title_re,\n",
    "#      '點閱次數': num,\n",
    "#  }\n",
    "# df=pd.DataFrame(data, columns=['上傳日期','新聞類型','新聞標題','點閱次數'])\n",
    "# print(df)"
   ]
  },
  {
   "cell_type": "code",
   "execution_count": null,
   "id": "65dac06e",
   "metadata": {},
   "outputs": [],
   "source": [
    "#  df_list=df.values.tolist()\n",
    "#  print(df_list)"
   ]
  },
  {
   "cell_type": "code",
   "execution_count": null,
   "id": "a3fe0b10",
   "metadata": {},
   "outputs": [],
   "source": [
    "# sort=''\n",
    "# from operator import itemgetter\n",
    "# sort=sorted(df_list, key=itemgetter(3), reverse=True)\n",
    "# print(sort)"
   ]
  },
  {
   "cell_type": "code",
   "execution_count": null,
   "id": "ef7268d3",
   "metadata": {},
   "outputs": [],
   "source": [
    "#  import pandas as pd"
   ]
  },
  {
   "cell_type": "code",
   "execution_count": null,
   "id": "ac02a8ca",
   "metadata": {},
   "outputs": [],
   "source": [
    "# df=pd.DataFrame(sort,columns=['上傳日期','新聞類型','新聞標題','點閱次數'])\n",
    "# print(df)"
   ]
  },
  {
   "cell_type": "code",
   "execution_count": null,
   "id": "036cf58a",
   "metadata": {},
   "outputs": [],
   "source": [
    "\n",
    "#  %pylab inline\n",
    "#  import matplotlib.pyplot as plt"
   ]
  },
  {
   "cell_type": "code",
   "execution_count": null,
   "id": "fdfc04ab",
   "metadata": {},
   "outputs": [],
   "source": [
    "# taiwan=[]\n",
    "# china=[]\n",
    "# international=[]\n",
    "# economy=[]\n",
    "\n",
    "# for i in df_list:\n",
    "#     for y in i:\n",
    "#         if(y==\"台灣新聞\"):\n",
    "#             taiwan.append(i)\n",
    "#         if(y=='大陸新聞'):\n",
    "#             china.append(i)\n",
    "#         if(y=='國際新聞'):\n",
    "#             international.append(i)\n",
    "#         if(y=='產經新聞'):\n",
    "#             economy.append(i)\n",
    "\n",
    "    \n",
    "# sort_taiwan=''\n",
    "# sort_china=''\n",
    "# sort_international=''\n",
    "# sort_economy=''\n",
    "\n",
    "# from operator import itemgetter\n",
    "# sort_taiwan=sorted(taiwan, key=itemgetter(3), reverse=True)\n",
    "# # print(sort_taiwan)\n",
    "\n",
    "# from operator import itemgetter\n",
    "# sort_china=sorted(china, key=itemgetter(3), reverse=True)\n",
    "# # print(sort_china)\n",
    "\n",
    "# from operator import itemgetter\n",
    "# sort_international=sorted(international, key=itemgetter(3), reverse=True)\n",
    "# # print(sort_international)\n",
    "\n",
    "# from operator import itemgetter\n",
    "# sort_economy=sorted(economy, key=itemgetter(3), reverse=True)\n",
    "# # print(sort_economy)"
   ]
  },
  {
   "cell_type": "code",
   "execution_count": null,
   "id": "663f5ce1",
   "metadata": {},
   "outputs": [],
   "source": [
    "# taiwan1=pd.DataFrame(sort_taiwan,columns=['上傳日期','新聞類型','新聞標題','點閱次數'])\n",
    "# print(taiwan1)\n",
    "# china1=pd.DataFrame(sort_china,columns=['上傳日期','新聞類型','新聞標題','點閱次數'])\n",
    "# print(china1)\n",
    "# international1=pd.DataFrame(sort_international,columns=['上傳日期','新聞類型','新聞標題','點閱次數'])\n",
    "# print(international1)\n",
    "# economy1=pd.DataFrame(sort_economy,columns=['上傳日期','新聞類型','新聞標題','點閱次數'])\n",
    "# print(economy1)"
   ]
  },
  {
   "cell_type": "code",
   "execution_count": null,
   "id": "b5a6d68d",
   "metadata": {},
   "outputs": [],
   "source": [
    "# taiwan1.drop_duplicates(inplace=True)\n",
    "# print(taiwan1)"
   ]
  },
  {
   "cell_type": "code",
   "execution_count": null,
   "id": "f9da999c",
   "metadata": {},
   "outputs": [],
   "source": [
    "# china1.drop_duplicates(inplace=True)\n",
    "# print(china1)\n"
   ]
  },
  {
   "cell_type": "code",
   "execution_count": null,
   "id": "b46c5519",
   "metadata": {},
   "outputs": [],
   "source": [
    "\n",
    "# international1.drop_duplicates(inplace=True)\n",
    "# print(international1)"
   ]
  },
  {
   "cell_type": "code",
   "execution_count": null,
   "id": "54c5c9a2",
   "metadata": {},
   "outputs": [],
   "source": [
    "# economy1.drop_duplicates(inplace=True)\n",
    "# print(economy1)"
   ]
  }
 ],
 "metadata": {
  "kernelspec": {
   "display_name": "Python 3",
   "language": "python",
   "name": "python3"
  },
  "language_info": {
   "codemirror_mode": {
    "name": "ipython",
    "version": 3
   },
   "file_extension": ".py",
   "mimetype": "text/x-python",
   "name": "python",
   "nbconvert_exporter": "python",
   "pygments_lexer": "ipython3",
   "version": "3.8.8"
  }
 },
 "nbformat": 4,
 "nbformat_minor": 5
}
